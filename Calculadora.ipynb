{
  "nbformat": 4,
  "nbformat_minor": 0,
  "metadata": {
    "colab": {
      "provenance": []
    },
    "kernelspec": {
      "name": "python3",
      "display_name": "Python 3"
    },
    "language_info": {
      "name": "python"
    }
  },
  "cells": [
    {
      "cell_type": "markdown",
      "source": [],
      "metadata": {
        "id": "9QiUNL7NFDWp"
      }
    },
    {
      "cell_type": "markdown",
      "source": [
        "Saudação com o usuário + coleta dos números a serem utilizados."
      ],
      "metadata": {
        "id": "BA2EpQquknc-"
      }
    },
    {
      "cell_type": "code",
      "source": [
        "print (\"Olá, vamos calcular?:\")\n",
        "primeiro_num = input(\"Digite o primeiro número: \")\n",
        "segundo_num = input(\"Digite o segundo número: \")\n",
        "print (\"Os números digitados foram:\", primeiro_num, \"e\", segundo_num)\n",
        "operação = input(\"Digite a operação que deseja realizar, sendo:\\n+ para somar\\n- para subtrair\\n* para multiplicar\\n/ para dividir:\\n\")\n",
        "if operação == \"+\":\n",
        "    print (\"A soma dos números é:\", int(primeiro_num) + int(segundo_num))\n",
        "elif operação == \"-\":\n",
        "    print (\"A subtração dos números é:\", int(primeiro_num) - int(segundo_num))\n",
        "elif operação == \"*\":\n",
        "    print (\"A multiplicação dos números é:\", int(primeiro_num) * int(segundo_num))\n",
        "elif operação == \"/\":\n",
        "    print (\"A divisão dos números é:\", int(primeiro_num) / int(segundo_num))\n",
        "if operação != \"+\" and operação != \"-\" and operação != \"*\" and operação != \"/\":\n",
        "    print (\"O caractere digitado não corresponde a nenhuma operação, tente novamente.\")\n",
        "\n",
        "print(\"Muito obrigado, até o próximo cálculo\")\n"
      ],
      "metadata": {
        "id": "OCp0g60RezIT"
      },
      "execution_count": null,
      "outputs": []
    }
  ]
}